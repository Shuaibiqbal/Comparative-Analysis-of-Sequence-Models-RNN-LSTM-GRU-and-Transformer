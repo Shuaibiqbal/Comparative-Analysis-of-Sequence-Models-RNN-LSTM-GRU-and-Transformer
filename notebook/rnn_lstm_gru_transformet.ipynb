{
 "cells": [
  {
   "cell_type": "code",
   "execution_count": 1,
   "id": "6103e339",
   "metadata": {},
   "outputs": [],
   "source": [
    "import pandas as pd "
   ]
  },
  {
   "cell_type": "markdown",
   "id": "8819965f",
   "metadata": {},
   "source": [
    "# Why RNN, LSTM, GRU, and Transformers?\n",
    "\n",
    "## **Recurrent Neural Networks (RNN)**\n",
    "RNNs were developed to handle sequential data by maintaining a \"memory\" of previous inputs in the sequence. They are good for tasks like time series prediction or text generation where past information influences future predictions.\n",
    "\n",
    "**However, RNNs have limitations:**\n",
    "\n",
    "**Vanishing Gradient Problem:** During backpropagation, gradients can get very small, causing learning to stop as you go further back in the sequence. This makes training RNNs on long sequences very hard.\n",
    "\n",
    "## **Long Short-Term Memory (LSTM)**\n",
    "LSTM was introduced to address the vanishing gradient problem in RNNs. It uses a special memory cell structure that allows the network to \"remember\" information for long periods and is much more effective for longer sequences.\n",
    "\n",
    "**Problem:**\n",
    "\n",
    "While LSTMs mitigate the vanishing gradient problem, they still have some issues with long-range dependencies and are computationally expensive.\n",
    "\n",
    "## **Gated Recurrent Unit (GRU)**\n",
    "GRU is a simplified version of LSTM. It combines the forget and input gates into one, which makes it faster to train and requires fewer parameters.\n",
    "\n",
    "**Problem:**\n",
    "\n",
    "GRUs might not handle very long sequences as well as LSTMs due to fewer gates.\n",
    "\n",
    "## **Transformers**\n",
    "Transformers solve the problem of long-range dependencies. Instead of relying on sequential processing, transformers use self-attention mechanisms that allow the model to weigh all parts of the sequence at once. This makes transformers faster and better at handling very long sequences. They are currently the state-of-the-art for most sequence modeling tasks, including NLP tasks like machine translation.\n",
    "\n",
    "**Problem:**\n",
    "\n",
    "Transformers can be very computationally expensive because of their attention mechanism, which needs to evaluate pairwise relations between every token in the sequence.\n",
    "\n",
    "**Code Setup**\n",
    "We’ll use the sklearn.datasets and work with the 20 Newsgroups dataset, which is often used for text classification. We'll preprocess it into sequences suitable for RNN, LSTM, GRU, and Transformer models.\n",
    "\n",
    "We’ll split the dataset into three sets: Train, Validation (Eval), and Test."
   ]
  },
  {
   "cell_type": "markdown",
   "id": "9afe9fba",
   "metadata": {},
   "source": [
    "## 1. Data Preprocessing\n",
    "We'll first load the dataset, vectorize it using TfidfVectorizer, and then pad the sequences."
   ]
  },
  {
   "cell_type": "code",
   "execution_count": 2,
   "id": "15b0e370",
   "metadata": {},
   "outputs": [
    {
     "name": "stderr",
     "output_type": "stream",
     "text": [
      "2025-04-30 16:30:33.078881: E external/local_xla/xla/stream_executor/cuda/cuda_fft.cc:477] Unable to register cuFFT factory: Attempting to register factory for plugin cuFFT when one has already been registered\n",
      "WARNING: All log messages before absl::InitializeLog() is called are written to STDERR\n",
      "E0000 00:00:1746012633.090975 3817788 cuda_dnn.cc:8310] Unable to register cuDNN factory: Attempting to register factory for plugin cuDNN when one has already been registered\n",
      "E0000 00:00:1746012633.094570 3817788 cuda_blas.cc:1418] Unable to register cuBLAS factory: Attempting to register factory for plugin cuBLAS when one has already been registered\n",
      "2025-04-30 16:30:33.106840: I tensorflow/core/platform/cpu_feature_guard.cc:210] This TensorFlow binary is optimized to use available CPU instructions in performance-critical operations.\n",
      "To enable the following instructions: AVX2 FMA, in other operations, rebuild TensorFlow with the appropriate compiler flags.\n"
     ]
    }
   ],
   "source": [
    "from sklearn.datasets import fetch_20newsgroups\n",
    "from sklearn.feature_extraction.text import TfidfVectorizer\n",
    "from sklearn.model_selection import train_test_split\n",
    "from tensorflow.keras.preprocessing.sequence import pad_sequences\n",
    "import numpy as np \n",
    "import pandas as pd "
   ]
  },
  {
   "cell_type": "code",
   "execution_count": 3,
   "id": "506fb224",
   "metadata": {},
   "outputs": [],
   "source": [
    "# Load Dataset \n",
    "from sklearn.datasets import fetch_20newsgroups\n",
    "from sklearn.model_selection import train_test_split\n",
    "from tensorflow.keras.utils import to_categorical\n",
    "\n",
    "data = fetch_20newsgroups(subset='all', remove=('headers', 'footers', 'quotes'))\n",
    "X_raw = data.data\n",
    "y = data.target\n",
    "num_classes = np.unique(y).shape[0]\n",
    "y_cat = to_categorical(y, num_classes)\n",
    "\n",
    "\n",
    "X_train_raw, X_temp, y_train, y_temp = train_test_split(X_raw, y_cat, test_size=0.4, random_state=42)\n",
    "X_val_raw, X_test_raw, y_val, y_test = train_test_split(X_temp, y_temp, test_size=0.5, random_state=42)"
   ]
  },
  {
   "cell_type": "markdown",
   "id": "07e61ba0",
   "metadata": {},
   "source": [
    "# TF-IDF (Term Frequency-Inverse Document Frequency)\n",
    "\n",
    "## What is TF-IDF?\n",
    "\n",
    "**TF-IDF** is a statistical measure used in text analysis and natural language processing (NLP) to evaluate how important a word is in a document relative to a collection of documents (also called a corpus). It combines two components:\n",
    "\n",
    "### 1. Term Frequency (TF):\n",
    "This measures how frequently a term (word) appears in a document. It helps indicate the relative importance of a term within the document.\n",
    "\n",
    "**Formula:**\n",
    "TF(t)= Number of times word \"t\" appears / Total number of words in the document\n",
    "\n",
    "\n",
    "\n",
    "### 2. Inverse Document Frequency (IDF):\n",
    "This measures how important a term is across the entire corpus (collection of documents). Words that appear in many documents have lower IDF values, while words that are unique to fewer documents have higher IDF values. This helps reduce the importance of words that are too common (like \"the,\" \"and,\" etc.).\n",
    "\n",
    "**Formula:**\n",
    "IDF(t) = log((Total number of documents) / (Number of documents containing term t))\n",
    "\n",
    "### 3. TF-IDF:\n",
    "The final value is the product of the Term Frequency and the Inverse Document Frequency, helping determine the **weight of each word** in a document relative to the entire corpus.\n",
    "\n",
    "**Formula:**\n",
    "TF-IDF(t) = TF(t) * IDF(t)\n",
    "\n",
    "## When to Use TF-IDF:\n",
    "\n",
    "- **Text Classification:** When building models to classify text data into categories, TF-IDF helps identify important words (features) that can differentiate between classes.\n",
    "- **Information Retrieval:** TF-IDF is used in search engines to rank documents based on relevance to a search query.\n",
    "- **Feature Extraction:** In NLP, when you want to convert text data into a numerical format for machine learning models, TF-IDF is commonly used.\n",
    "- **Reducing Noise:** Common words (e.g., \"the,\" \"is,\" \"to\") are usually given low weights, reducing their impact on models.\n",
    "\n",
    "## How TF-IDF is Applied to the 20 Newsgroups Dataset:\n",
    "\n",
    "### The 20 Newsgroups Dataset:\n",
    "This dataset contains 20 different categories of newsgroup posts. Some of the categories are:\n",
    "\n",
    "- **alt.atheism**\n",
    "- **comp.graphics**\n",
    "- **rec.autos**\n",
    "- **sci.med**\n",
    "- **talk.politics.misc**\n",
    "- ... and others.\n",
    "\n",
    "Each newsgroup post is a piece of text, and the goal is to classify each post into one of the 20 categories. To do that, we need to convert the text into a format that a machine learning model can understand, which is where TF-IDF comes in.\n",
    "\n",
    "### How TF-IDF Transforms the Dataset:\n",
    "\n",
    "#### Term Frequency (TF):\n",
    "For each post in the dataset, the **TF** part of the formula measures how many times each word appears in that specific post. For example:\n",
    "\n",
    "If the word \"graphics\" appears 5 times in a post and the post contains 100 words, the **TF** for \"graphics\" in that post would be:\n",
    "TF(\"graphics\") = 5/100 = 0.05\n",
    "\n",
    "This means \"graphics\" contributes 5% of the total words in that document.\n",
    "\n",
    "#### Inverse Document Frequency (IDF):\n",
    "The **IDF** component adjusts the weight of words that are common across all the newsgroup posts. Words like \"the,\" \"and,\" \"is\" will appear in many documents and thus will have a low IDF value.\n",
    "\n",
    "For instance, if the word \"the\" appears in almost every newsgroup post, the **IDF** for \"the\" will be small, which means it will have a low weight and not significantly influence the classification.\n",
    "\n",
    "If a word appears in only a few categories (like \"graphics\" in the **comp.graphics** category), its **IDF** value will be higher, meaning it is more distinctive and useful for classification.\n",
    "\n",
    "#### Combining TF and IDF (TF-IDF):\n",
    "The final **TF-IDF** value for a word in a document is the product of its **TF** and **IDF**. Words that are frequent in a specific post but rare across the entire corpus (like \"graphics\" in **comp.graphics**) will have a high **TF-IDF** score, making them highly informative for classification.\n",
    "\n",
    "### Example of How TF-IDF Works in the 20 Newsgroups Dataset:\n",
    "Let’s say you have the following three documents in the dataset:\n",
    "\n",
    "- **Document 1** (from **comp.graphics**): \"Graphics hardware is important in modern computing.\"\n",
    "- **Document 2** (from **rec.autos**): \"The importance of graphics in automobile design.\"\n",
    "- **Document 3** (from **sci.med**): \"Medical graphics can be used in medical research.\"\n",
    "\n",
    "For each document, TF calculates the frequency of terms:\n",
    "\n",
    "- In **Document 1**, \"graphics\" may appear 1 time, and other words like \"hardware\" and \"modern\" also have their frequencies.\n",
    "- In **Document 2**, \"graphics\" appears 1 time, and similar calculations are done for other words.\n",
    "\n",
    "The **IDF** component checks how many documents contain the word \"graphics\" and assigns it a weight. If \"graphics\" appears in many documents, its **IDF** will be lower, as it is common. However, if \"graphics\" appears mainly in **comp.graphics** and not much elsewhere, the **IDF** will be higher.\n",
    "\n",
    "Finally, the **TF-IDF** values are calculated by multiplying the term frequency (**TF**) by the inverse document frequency (**IDF**). Words like \"graphics\" will have a high **TF-IDF** score in **comp.graphics**, making them more important for classifying the document into that category.\n",
    "\n",
    "## What Happens in Your Code:\n",
    "```python\n",
    "vectorizer = TfidfVectorizer(max_features=10000)\n",
    "X = vectorizer.fit_transform(X).toarray()\n",
    "\n",
    "TfidfVectorizer(max_features=10000): This limits the vocabulary to the top 10,000 words based on their TF-IDF scores. These words are considered the most informative in the dataset for classification purposes.\n",
    "\n",
    "fit_transform(X): This applies the TF-IDF transformation to the data (X), converting the raw text into a matrix of TF-IDF features. Each document is now represented as a vector of numerical values, where each value corresponds to the TF-IDF score for a word in the document.\n",
    "\n",
    "toarray(): Converts the sparse matrix (which only stores non-zero values to save memory) into a dense array, which is easier to work with but takes more memory.\n",
    "\n",
    "**Summary:**\n",
    "TF-IDF helps convert text data into numerical vectors that represent the importance of words in the context of the dataset.\n",
    "\n",
    "It reduces the influence of common words that don’t provide much insight into the category of the document (like \"the,\" \"is,\" \"and\").\n",
    "\n",
    "It highlights more unique and distinctive words that are valuable for text classification (like \"graphics\" in the comp.graphics category).\n",
    "\n",
    "Using TF-IDF in the 20 Newsgroups dataset enables you to represent each newsgroup post in a way that a machine learning algorithm can use to predict its category based on the important features (words)."
   ]
  },
  {
   "cell_type": "markdown",
   "id": "b31804cc",
   "metadata": {},
   "source": [
    "### Why is Embedding Used, Even If We Have TF-IDF?\n",
    "**1. TF-IDF vs Embedding Layer:**\n",
    "\n",
    "TF-IDF is a statistical representation of a document. It assigns each word in the document a weight (importance) based on how often it appears in the document relative to its frequency across the entire corpus. The result is a sparse vector representation, which is good for text classification tasks, but does not capture semantic relationships between words.\n",
    "\n",
    "For example, TF-IDF would give the words \"king\" and \"queen\" very different weights, even though they are semantically similar.\n",
    "\n",
    "Embeddings, on the other hand, provide dense, continuous vectors that capture semantic meaning. \"King\" and \"queen\" would be represented by similar vectors because they are related concepts (e.g., royalty).\n",
    "\n",
    "**2. When We Use an Embedding Layer:**\n",
    "\n",
    "The Embedding layer is typically used when you're dealing with raw text data, and you want to learn the best representations (embeddings) for words during the training process.\n",
    "\n",
    "TF-IDF is a feature extraction technique, not a model itself. After converting your raw text into a TF-IDF matrix, you're feeding it directly to the model. The Embedding layer, however, is used in models where you want to learn word representations (vectors) that improve during training, which is particularly useful for deep learning models like LSTM, GRU, etc.\n",
    "\n",
    "**Example to Illustrate:**\n",
    "\n",
    "**Using TF-IDF:**\n",
    "\n",
    "You convert your text into a sparse matrix where each word has a frequency or weight. This matrix can be fed into a machine learning model like logistic regression or a neural network.\n",
    "\n",
    "This doesn't capture relationships like \"king\" and \"queen\" being similar.\n",
    "\n",
    "**Using an Embedding Layer:**\n",
    "\n",
    "When using a deep learning model, you might start by converting the words into indices (e.g., 0 for \"king\", 1 for \"queen\", etc.), then use the Embedding layer to transform these indices into dense vectors (e.g., [0.32, 0.15, -0.67, ...]).\n",
    "\n",
    "These dense vectors are learned by the model during training. So, the model learns to represent words like \"king\" and \"queen\" with similar vectors because they have similar meanings.\n",
    "\n",
    "**When to Use Which:**\n",
    "\n",
    "Use TF-IDF when you want a quick, non-learned representation of your text for shallow machine learning models (like SVM, Naive Bayes, etc.).\n",
    "\n",
    "Use the Embedding layer when you want your model to learn word representations and capture complex semantic relationships between words (useful in deep learning models like LSTM, GRU, Transformers, etc.).\n",
    "\n",
    "**In Summary:**\n",
    "\n",
    "TF-IDF gives you a static, sparse representation of words based on their frequency.\n",
    "\n",
    "Embedding layers give you a dynamic, dense representation of words that captures their semantic meaning and is learned by the model during training.\n",
    "\n",
    "If you're using deep learning models (like LSTM, GRU, etc.), you generally use Embeddings to get rich word representations, which are beneficial for learning the context in sequences.\n",
    "\n"
   ]
  },
  {
   "cell_type": "markdown",
   "id": "cbb0c4c4",
   "metadata": {},
   "source": [
    "## 🔸 1. TF-IDF + RNN/LSTM/GRU\n",
    "### 🔹 TF-IDF Vectorization"
   ]
  },
  {
   "cell_type": "code",
   "execution_count": 4,
   "id": "57ed5856",
   "metadata": {},
   "outputs": [
    {
     "data": {
      "text/plain": [
       "'Hi all,\\n\\nI think the subject says it all - does anyone know how to take the rgb/h/vsync from a standard vga connector and record them on video tape??\\n\\nAny help is appreciated!\\n\\n\\nMark J Cargill'"
      ]
     },
     "execution_count": 4,
     "metadata": {},
     "output_type": "execute_result"
    }
   ],
   "source": [
    "X_train_raw[0] #just for check form of data "
   ]
  },
  {
   "cell_type": "code",
   "execution_count": 5,
   "id": "d56a4ecb",
   "metadata": {},
   "outputs": [],
   "source": [
    "from sklearn.feature_extraction.text import TfidfVectorizer\n",
    "from tensorflow.keras.preprocessing.sequence import pad_sequences\n",
    "vectorizer = TfidfVectorizer(max_features=1000)\n",
    "X_train_tfidf = vectorizer.fit_transform(X_train_raw).toarray()\n",
    "X_val_tfidf = vectorizer.fit_transform(X_val_raw).toarray()\n",
    "X_test_tfidf = vectorizer.fit_transform(X_test_raw).toarray()"
   ]
  },
  {
   "cell_type": "code",
   "execution_count": 6,
   "id": "ad5772fa",
   "metadata": {},
   "outputs": [
    {
     "data": {
      "text/plain": [
       "((11307, 1000), (3769, 1000), (3770, 1000))"
      ]
     },
     "execution_count": 6,
     "metadata": {},
     "output_type": "execute_result"
    }
   ],
   "source": [
    "X_train_tfidf.shape, X_val_tfidf.shape, X_test_tfidf.shape"
   ]
  },
  {
   "cell_type": "code",
   "execution_count": 7,
   "id": "168215b9",
   "metadata": {},
   "outputs": [
    {
     "data": {
      "text/plain": [
       "((11307, 1000, 1), (3769, 1000, 1), (3770, 1000, 1))"
      ]
     },
     "execution_count": 7,
     "metadata": {},
     "output_type": "execute_result"
    }
   ],
   "source": [
    "# Reshaping, pad to make it 3D\n",
    "X_train_tfidf_reshaped = np.expand_dims(X_train_tfidf, axis=-1)\n",
    "X_val_tfidf_reshaped = np.expand_dims(X_val_tfidf, axis=-1)\n",
    "X_test_tfidf_reshaped = np.expand_dims(X_test_tfidf, axis=-1)\n",
    "X_train_tfidf_reshaped.shape, X_val_tfidf_reshaped.shape, X_test_tfidf_reshaped.shape"
   ]
  },
  {
   "cell_type": "markdown",
   "id": "06976b62",
   "metadata": {},
   "source": [
    "## 1️⃣ TF-IDF + RNN"
   ]
  },
  {
   "cell_type": "code",
   "execution_count": 8,
   "id": "7edfbd3c",
   "metadata": {},
   "outputs": [],
   "source": [
    "from tensorflow.keras.models import Sequential\n",
    "from tensorflow.keras.layers import SimpleRNN, Dense, LSTM, GRU, Embedding"
   ]
  },
  {
   "cell_type": "code",
   "execution_count": 9,
   "id": "6db1e33c",
   "metadata": {},
   "outputs": [
    {
     "data": {
      "text/plain": [
       "((11307, 20), (3769, 20), (3770, 20))"
      ]
     },
     "execution_count": 9,
     "metadata": {},
     "output_type": "execute_result"
    }
   ],
   "source": [
    "y_train.shape, y_val.shape, y_test.shape"
   ]
  },
  {
   "cell_type": "code",
   "execution_count": 10,
   "id": "78c5b208",
   "metadata": {},
   "outputs": [
    {
     "name": "stdout",
     "output_type": "stream",
     "text": [
      "Epoch 1/3\n"
     ]
    },
    {
     "name": "stderr",
     "output_type": "stream",
     "text": [
      "2025-04-30 16:30:37.410242: E external/local_xla/xla/stream_executor/cuda/cuda_driver.cc:152] failed call to cuInit: INTERNAL: CUDA error: Failed call to cuInit: UNKNOWN ERROR (303)\n",
      "/home/shuaib/anaconda3/envs/myenv/lib/python3.10/site-packages/keras/src/layers/rnn/rnn.py:200: UserWarning: Do not pass an `input_shape`/`input_dim` argument to a layer. When using Sequential models, prefer using an `Input(shape)` object as the first layer in the model instead.\n",
      "  super().__init__(**kwargs)\n"
     ]
    },
    {
     "name": "stdout",
     "output_type": "stream",
     "text": [
      "\u001b[1m177/177\u001b[0m \u001b[32m━━━━━━━━━━━━━━━━━━━━\u001b[0m\u001b[37m\u001b[0m \u001b[1m24s\u001b[0m 134ms/step - accuracy: 0.0478 - loss: 3.0460 - val_accuracy: 0.0578 - val_loss: 3.0013\n",
      "Epoch 2/3\n",
      "\u001b[1m177/177\u001b[0m \u001b[32m━━━━━━━━━━━━━━━━━━━━\u001b[0m\u001b[37m\u001b[0m \u001b[1m24s\u001b[0m 136ms/step - accuracy: 0.0484 - loss: 3.0190 - val_accuracy: 0.0552 - val_loss: 3.0238\n",
      "Epoch 3/3\n",
      "\u001b[1m177/177\u001b[0m \u001b[32m━━━━━━━━━━━━━━━━━━━━\u001b[0m\u001b[37m\u001b[0m \u001b[1m24s\u001b[0m 133ms/step - accuracy: 0.0492 - loss: 3.0241 - val_accuracy: 0.0491 - val_loss: 3.0811\n",
      "\u001b[1m118/118\u001b[0m \u001b[32m━━━━━━━━━━━━━━━━━━━━\u001b[0m\u001b[37m\u001b[0m \u001b[1m4s\u001b[0m 30ms/step - accuracy: 0.0525 - loss: 3.0644\n",
      "RNN tfidf Accuracy:  0.05066312849521637\n"
     ]
    }
   ],
   "source": [
    "rnn_tfidf_model = Sequential()\n",
    "rnn_tfidf_model.add(SimpleRNN(128, input_shape = (1000,1)))\n",
    "rnn_tfidf_model.add(Dense(20, activation = \"softmax\"))\n",
    "\n",
    "rnn_tfidf_model.compile(optimizer=\"adam\", loss=\"categorical_crossentropy\", metrics=[\"accuracy\"])\n",
    "rnn_tfidf_model.fit(X_train_tfidf_reshaped, y_train, validation_data=(X_val_tfidf_reshaped, y_val), epochs=3, batch_size=64)\n",
    "\n",
    "print(\"RNN tfidf Accuracy: \", rnn_tfidf_model.evaluate(X_test_tfidf_reshaped, y_test)[1])"
   ]
  },
  {
   "cell_type": "markdown",
   "id": "c8df7204",
   "metadata": {},
   "source": [
    "## 2️⃣ TF-IDF + LSTM"
   ]
  },
  {
   "cell_type": "code",
   "execution_count": 11,
   "id": "d9c89788",
   "metadata": {},
   "outputs": [
    {
     "name": "stdout",
     "output_type": "stream",
     "text": [
      "Epoch 1/3\n",
      "\u001b[1m177/177\u001b[0m \u001b[32m━━━━━━━━━━━━━━━━━━━━\u001b[0m\u001b[37m\u001b[0m \u001b[1m76s\u001b[0m 422ms/step - accuracy: 0.0491 - loss: 2.9934 - val_accuracy: 0.0581 - val_loss: 2.9900\n",
      "Epoch 2/3\n",
      "\u001b[1m177/177\u001b[0m \u001b[32m━━━━━━━━━━━━━━━━━━━━\u001b[0m\u001b[37m\u001b[0m \u001b[1m76s\u001b[0m 427ms/step - accuracy: 0.0502 - loss: 2.9913 - val_accuracy: 0.0520 - val_loss: 2.9873\n",
      "Epoch 3/3\n",
      "\u001b[1m177/177\u001b[0m \u001b[32m━━━━━━━━━━━━━━━━━━━━\u001b[0m\u001b[37m\u001b[0m \u001b[1m72s\u001b[0m 407ms/step - accuracy: 0.0604 - loss: 2.9881 - val_accuracy: 0.0570 - val_loss: 2.9885\n",
      "\u001b[1m118/118\u001b[0m \u001b[32m━━━━━━━━━━━━━━━━━━━━\u001b[0m\u001b[37m\u001b[0m \u001b[1m12s\u001b[0m 105ms/step - accuracy: 0.0553 - loss: 2.9795\n",
      "LSTM tfidf Accuracy:  0.05755968019366264\n"
     ]
    }
   ],
   "source": [
    "lstm_tfidf_model = Sequential()\n",
    "lstm_tfidf_model.add(LSTM(128, input_shape = (1000,1)))\n",
    "lstm_tfidf_model.add(Dense(20,activation=\"softmax\"))\n",
    "\n",
    "lstm_tfidf_model.compile(optimizer=\"adam\", loss = \"categorical_crossentropy\", metrics=[\"accuracy\"])\n",
    "lstm_tfidf_model.fit(X_train_tfidf_reshaped, y_train,epochs = 3, validation_data=(X_val_tfidf_reshaped, y_val), batch_size=64)\n",
    "print(\"LSTM tfidf Accuracy: \", lstm_tfidf_model.evaluate(X_test_tfidf_reshaped, y_test)[1])"
   ]
  },
  {
   "cell_type": "markdown",
   "id": "bde14c54",
   "metadata": {},
   "source": [
    "## 3️⃣ TF-IDF + GRU"
   ]
  },
  {
   "cell_type": "code",
   "execution_count": 12,
   "id": "0bc7ae08",
   "metadata": {},
   "outputs": [
    {
     "name": "stdout",
     "output_type": "stream",
     "text": [
      "Epoch 1/3\n",
      "\u001b[1m177/177\u001b[0m \u001b[32m━━━━━━━━━━━━━━━━━━━━\u001b[0m\u001b[37m\u001b[0m \u001b[1m80s\u001b[0m 445ms/step - accuracy: 0.0495 - loss: 2.9935 - val_accuracy: 0.0483 - val_loss: 2.9887\n",
      "Epoch 2/3\n",
      "\u001b[1m177/177\u001b[0m \u001b[32m━━━━━━━━━━━━━━━━━━━━\u001b[0m\u001b[37m\u001b[0m \u001b[1m75s\u001b[0m 424ms/step - accuracy: 0.0621 - loss: 2.9840 - val_accuracy: 0.0584 - val_loss: 2.9830\n",
      "Epoch 3/3\n",
      "\u001b[1m177/177\u001b[0m \u001b[32m━━━━━━━━━━━━━━━━━━━━\u001b[0m\u001b[37m\u001b[0m \u001b[1m75s\u001b[0m 423ms/step - accuracy: 0.0568 - loss: 2.9811 - val_accuracy: 0.0560 - val_loss: 2.9756\n",
      "\u001b[1m118/118\u001b[0m \u001b[32m━━━━━━━━━━━━━━━━━━━━\u001b[0m\u001b[37m\u001b[0m \u001b[1m10s\u001b[0m 83ms/step - accuracy: 0.0650 - loss: 2.9692\n",
      "GRU tfidf Accuracy:  0.06445623189210892\n"
     ]
    }
   ],
   "source": [
    "gru_tfidf_model = Sequential()\n",
    "gru_tfidf_model.add(GRU(128, input_shape=(1000,1)))\n",
    "gru_tfidf_model.add(Dense(20, activation=\"softmax\"))\n",
    "\n",
    "gru_tfidf_model.compile(optimizer=\"adam\", loss = \"categorical_crossentropy\", metrics=[\"accuracy\"])\n",
    "gru_tfidf_model.fit(X_train_tfidf_reshaped, y_train,epochs = 3, validation_data=(X_val_tfidf_reshaped, y_val), batch_size=64)\n",
    "print(\"GRU tfidf Accuracy: \", gru_tfidf_model.evaluate(X_test_tfidf_reshaped, y_test)[1])"
   ]
  },
  {
   "cell_type": "markdown",
   "id": "ba2ef1f4",
   "metadata": {},
   "source": [
    "## 4️⃣ TF-IDF + Transformer (using simple Attention layer)"
   ]
  },
  {
   "cell_type": "code",
   "execution_count": null,
   "id": "691f2f5f",
   "metadata": {},
   "outputs": [
    {
     "name": "stdout",
     "output_type": "stream",
     "text": [
      "Epoch 1/3\n",
      "\u001b[1m177/177\u001b[0m \u001b[32m━━━━━━━━━━━━━━━━━━━━\u001b[0m\u001b[37m\u001b[0m \u001b[1m180s\u001b[0m 1s/step - accuracy: 0.0501 - loss: 3.0845\n",
      "Epoch 2/3\n",
      "\u001b[1m177/177\u001b[0m \u001b[32m━━━━━━━━━━━━━━━━━━━━\u001b[0m\u001b[37m\u001b[0m \u001b[1m179s\u001b[0m 1s/step - accuracy: 0.0595 - loss: 3.0044\n",
      "Epoch 3/3\n",
      "\u001b[1m177/177\u001b[0m \u001b[32m━━━━━━━━━━━━━━━━━━━━\u001b[0m\u001b[37m\u001b[0m \u001b[1m179s\u001b[0m 1s/step - accuracy: 0.0564 - loss: 2.9994\n",
      "\u001b[1m 49/118\u001b[0m \u001b[32m━━━━━━━━\u001b[0m\u001b[37m━━━━━━━━━━━━\u001b[0m \u001b[1m13s\u001b[0m 196ms/step - accuracy: 0.0525 - loss: 3.0081"
     ]
    }
   ],
   "source": [
    "from tensorflow.keras.layers import Dense, LayerNormalization, MultiHeadAttention, GlobalMaxPooling1D, Input, Add \n",
    "from tensorflow.keras.models import Model\n",
    "import tensorflow as tf \n",
    "input_layer = Input(shape = (1000,1))\n",
    "x = Dense(64)(input_layer)\n",
    "att = MultiHeadAttention(num_heads=2, key_dim=64)(x,x)\n",
    "att = Add()([x, att])\n",
    "att = LayerNormalization()(att)\n",
    "ffn = Dense(64, activation='relu')(att)\n",
    "ffn = Add()([att, ffn])\n",
    "ffn = LayerNormalization()(ffn)\n",
    "att = GlobalMaxPooling1D()(ffn)\n",
    "output_layer = Dense(20, activation='softmax')(att)\n",
    "transformer_tfidf_model = Model(inputs = input_layer, outputs = output_layer)\n",
    "transformer_tfidf_model.compile(optimizer=\"adam\", loss=\"categorical_crossentropy\", metrics=[\"accuracy\"])\n",
    "\n",
    "#Fit and Evaluate\n",
    "\n",
    "transformer_tfidf_model.fit(X_train_tfidf_reshaped, y_train, epochs=3, batch_size=64, validation_batch_size=(X_val_tfidf_reshaped, y_val))\n",
    "print(\"Transformer TF-IDF Accuracy: \", transformer_tfidf_model.evaluate(X_test_tfidf_reshaped, y_test)[1])\n"
   ]
  },
  {
   "cell_type": "markdown",
   "id": "1b00708b",
   "metadata": {},
   "source": [
    "## 🔹 Common Setup for Word2Vec Models"
   ]
  },
  {
   "cell_type": "code",
   "execution_count": null,
   "id": "c6b816d5",
   "metadata": {},
   "outputs": [],
   "source": [
    "# Tokenization\n",
    "from tensorflow.keras.preprocessing.text import Tokenizer\n",
    "from gensim.models import Word2Vec\n",
    "tokenizer = Tokenizer(num_words=1000, oov_token=\"<OOV>\")\n",
    "tokenizer.fit_on_texts(X_raw)\n",
    "X_seq = tokenizer.texts_to_sequences(X_raw)\n",
    "X_pad = pad_sequences(X_seq, padding='post', maxlen=500)"
   ]
  },
  {
   "cell_type": "code",
   "execution_count": null,
   "id": "99af4c8d",
   "metadata": {},
   "outputs": [],
   "source": [
    "# Train Word2Vec model\n",
    "sentences = [text.split() for text in X_raw]\n",
    "w2v_model = Word2Vec(sentences, vector_size=1000, window=5, min_count=1)\n",
    "word_index = tokenizer.word_index\n",
    "embedding_matrix = np.zeros((1000,128))\n",
    "for word, i in word_index.items():\n",
    "    if i < 10000 and word in w2v_model.wv:\n",
    "        embedding_matrix[i]: w2v_model.wv[word]\n",
    "embedding_matrix"
   ]
  },
  {
   "cell_type": "code",
   "execution_count": null,
   "id": "7e9c7ec0",
   "metadata": {},
   "outputs": [],
   "source": [
    "# Train/Val/Test Split\n",
    "X_train_w2v, X_temp_w2v, y_train, y_temp = train_test_split(X_pad, y_cat, test_size=0.4, random_state=42)\n",
    "X_val_w2v, X_test_w2v, y_val, y_test = train_test_split(X_temp_w2v, y_temp, test_size=0.5, random_state=42)"
   ]
  },
  {
   "cell_type": "code",
   "execution_count": null,
   "id": "c066af66",
   "metadata": {},
   "outputs": [],
   "source": [
    "X_train_w2v"
   ]
  },
  {
   "cell_type": "markdown",
   "id": "efc91276",
   "metadata": {},
   "source": [
    "### 1️⃣ Word2Vec + RNN"
   ]
  },
  {
   "cell_type": "code",
   "execution_count": null,
   "id": "5ca58b57",
   "metadata": {},
   "outputs": [],
   "source": [
    "rnn_w2v_model = Sequential()\n",
    "rnn_w2v_model.add(Embedding(input_dim=1000, output_dim=128, weights=[embedding_matrix], input_length = 500, trainable = False))\n",
    "rnn_w2v_model.add(SimpleRNN(128))\n",
    "rnn_w2v_model.add(Dense(20, activation=\"softmax\"))\n",
    "\n",
    "rnn_w2v_model.compile(optimizer=\"adam\", loss=\"categorical_crossentropy\", metrics=[\"accuracy\"])\n",
    "rnn_w2v_model.fit(X_train_w2v, y_train, validation_data = [X_val_w2v, y_val], epochs=3, batch_size=64)\n",
    "print(\"RNN W2v Accuracy: \", rnn_w2v_model.evaluate(X_test_w2v, y_test)[1])"
   ]
  },
  {
   "cell_type": "markdown",
   "id": "80dc3b21",
   "metadata": {},
   "source": [
    "### 2️⃣ Word2Vec + LSTM"
   ]
  },
  {
   "cell_type": "code",
   "execution_count": null,
   "id": "2c9f32c9",
   "metadata": {},
   "outputs": [],
   "source": [
    "lstm_w2v_model = Sequential()\n",
    "lstm_w2v_model.add(Embedding(input_dim=1000, output_dim=128, weights=[embedding_matrix], input_length = 500, trainable = False))\n",
    "lstm_w2v_model.add(LSTM(128))\n",
    "lstm_w2v_model.add(Dense(20, activation=\"softmax\"))\n",
    "\n",
    "lstm_w2v_model.compile(optimizer=\"adam\", loss=\"categorical_crossentropy\", metrics=[\"Accuracy\"])\n",
    "lstm_w2v_model.fit(X_train_w2v, y_train, validation_data=[X_val_w2v, y_val], batch_size=64, epochs = 3)\n",
    "print(\"LSTM w2v Accuracy: \", lstm_w2v_model.evaluate(X_test_w2v, y_test)[1])\n"
   ]
  },
  {
   "cell_type": "markdown",
   "id": "5c68d4cf",
   "metadata": {},
   "source": [
    "### 3️⃣ Word2Vec + GRU"
   ]
  },
  {
   "cell_type": "code",
   "execution_count": null,
   "id": "50f15bb7",
   "metadata": {},
   "outputs": [],
   "source": [
    "gru_w2v_model = Sequential()\n",
    "gru_w2v_model.add(Embedding(input_dim = 1000, output_dim = 128, weights=[embedding_matrix], input_length= 500))\n",
    "gru_w2v_model.add(GRU(128))\n",
    "gru_w2v_model.add(Dense(20, activation=\"softmax\"))\n",
    "\n",
    "gru_w2v_model.compile(optimizer=\"adam\", loss = \"categorical_crossentropy\", metrics = [\"Accuracy\"])\n",
    "gru_w2v_model.fit(X_train_w2v, y_train, validation_data=[X_val_w2v, y_val], epochs=3, batch_size=64)\n",
    "print(\"GRU w2v Accuracy: \", gru_w2v_model.evaluate(X_test_w2v, y_test)[1])"
   ]
  },
  {
   "cell_type": "markdown",
   "id": "40e7f7f8",
   "metadata": {},
   "source": [
    "### 4️⃣ Word2Vec + Transformer (Simplified)"
   ]
  },
  {
   "cell_type": "code",
   "execution_count": null,
   "id": "d640e0ac",
   "metadata": {},
   "outputs": [],
   "source": [
    "input_layer = Input(shape=(500,))\n",
    "embedding_layer = Embedding(input_dim = 1000, output_dim = 128, weights = [embedding_matrix], trainable = 500)(input_layer)\n",
    "att = MultiHeadAttention(num_heads = 2, key_dim = 64)(embedding_layer, embedding_layer)\n",
    "att = LayerNormalization()(att)\n",
    "att = GlobalMaxPooling1D()(att)\n",
    "output_layer = Dense(20, activation = \"softmax\")(att)\n",
    "\n",
    "transformer_w2v_model = Model(inputs = input_layer, outputs = output_layer)\n",
    "transformer_w2v_model.compile(optimizer = \"adam\", loss = \"categorical_crossentropy\", metrics = [\"accuracy\"])\n",
    "transformer_w2v_model.fit(X_train_w2v, y_train, validation_data = [X_val_w2v, y_val], epochs = 3, batch_size = 64)\n",
    "print(\"Transformer w2v Accuracy: \", transformer_w2v_model.evaluate(X_test_w2v, y_test)[1])"
   ]
  },
  {
   "cell_type": "markdown",
   "id": "ccdad89a",
   "metadata": {},
   "source": [
    "**What do the parameters mean?**\n",
    "\n",
    "Parameter\t                            Meaning\n",
    "\n",
    "**input_dim=10000**\t--> Size of the vocabulary. That is, the total number of unique words your model expects. Here, it assumes 10,000 different words. Each word will have its own vector.\n",
    "\n",
    "Number of unique tokens (words) in whole dataset\n",
    "\n",
    "**output_dim=128** -->\tSize of the vector for each word. That is, each word will be represented by a dense vector of 128 numbers.\n",
    "\n",
    "Number of tokens in each input sequence (padded/truncated)\n",
    "\n",
    "**input_length=500** --> Length of each input sequence (number of words). Here, each input (sentence/document) will have 500 words (after padding/truncating).\n",
    "\n",
    "Size of the dense vector for each word\n",
    "\n",
    "\n",
    "**In simple words:**\n",
    "\n",
    "* You have 10,000 different words.\n",
    "\n",
    "* Each word will be converted into a 128-dimensional vector.\n",
    "\n",
    "* Each input document must have exactly 500 words (either padded or cut).\n",
    "\n",
    "So the output shape of the Embedding layer will be:\n",
    "\n",
    "(batch_size, 500, 128)\n",
    "\n",
    "→ meaning batch_size documents,\n",
    "\n",
    "each document has 500 words,\n",
    "\n",
    "each word is represented by a 128-length vector."
   ]
  },
  {
   "cell_type": "markdown",
   "id": "6b1fb33d",
   "metadata": {},
   "source": []
  },
  {
   "cell_type": "markdown",
   "id": "275c3ada",
   "metadata": {},
   "source": [
    "## 🔹 Common Setup for GloVe-Based Models"
   ]
  },
  {
   "cell_type": "markdown",
   "id": "81b12e88",
   "metadata": {},
   "source": [
    "wget http://nlp.stanford.edu/data/glove.6B.zip\n",
    "\n",
    "unzip glove.6B.zip"
   ]
  },
  {
   "cell_type": "markdown",
   "id": "fda95416",
   "metadata": {},
   "source": [
    "### 🔁 Load and Prepare GloVe Embeddings"
   ]
  },
  {
   "cell_type": "code",
   "execution_count": null,
   "id": "e9d0a6ac",
   "metadata": {},
   "outputs": [],
   "source": []
  }
 ],
 "metadata": {
  "kernelspec": {
   "display_name": "myenv",
   "language": "python",
   "name": "python3"
  },
  "language_info": {
   "codemirror_mode": {
    "name": "ipython",
    "version": 3
   },
   "file_extension": ".py",
   "mimetype": "text/x-python",
   "name": "python",
   "nbconvert_exporter": "python",
   "pygments_lexer": "ipython3",
   "version": "3.10.13"
  }
 },
 "nbformat": 4,
 "nbformat_minor": 5
}
